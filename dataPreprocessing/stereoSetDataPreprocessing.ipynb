{
 "cells": [
  {
   "cell_type": "code",
   "execution_count": 1,
   "id": "64105d97",
   "metadata": {},
   "outputs": [],
   "source": [
    "import requests\n",
    "import json\n",
    "import pandas as pd\n",
    "from openai import OpenAI\n",
    "import os\n",
    "from tqdm import tqdm\n",
    "import random"
   ]
  },
  {
   "cell_type": "markdown",
   "id": "79af8849",
   "metadata": {},
   "source": [
    "# Load StereoSet dev.json file"
   ]
  },
  {
   "cell_type": "code",
   "execution_count": 2,
   "id": "90929b52",
   "metadata": {},
   "outputs": [],
   "source": [
    "stereo_url = \"https://raw.githubusercontent.com/moinnadeem/StereoSet/master/data/dev.json\"\n",
    "response = requests.get(stereo_url)\n",
    "stereo_json = json.loads(response.text)"
   ]
  },
  {
   "cell_type": "markdown",
   "id": "f01e6a70",
   "metadata": {},
   "source": [
    "# Combine intrasentence and intersentence data"
   ]
  },
  {
   "cell_type": "code",
   "execution_count": 3,
   "id": "a201c02e",
   "metadata": {},
   "outputs": [],
   "source": [
    "data = stereo_json['data']['intrasentence'] + stereo_json['data']['intersentence']"
   ]
  },
  {
   "cell_type": "markdown",
   "id": "27a769e0",
   "metadata": {},
   "source": [
    "# Filter for gender bias_type (primary)"
   ]
  },
  {
   "cell_type": "code",
   "execution_count": 4,
   "id": "163c3803",
   "metadata": {},
   "outputs": [],
   "source": [
    "gender_data = [item for item in data if item['bias_type'] == 'gender']"
   ]
  },
  {
   "cell_type": "code",
   "execution_count": 5,
   "id": "83544536",
   "metadata": {},
   "outputs": [
    {
     "data": {
      "text/plain": [
       "497"
      ]
     },
     "execution_count": 5,
     "metadata": {},
     "output_type": "execute_result"
    }
   ],
   "source": [
    "len(gender_data)"
   ]
  },
  {
   "cell_type": "markdown",
   "id": "5c56ac51",
   "metadata": {},
   "source": [
    "# Filter for profession bias_type (to combine, as it often intersects with gender stereotypes in occupations)"
   ]
  },
  {
   "cell_type": "code",
   "execution_count": 6,
   "id": "34f4f61d",
   "metadata": {},
   "outputs": [],
   "source": [
    "profession_data = [item for item in data if item['bias_type'] == 'profession']"
   ]
  },
  {
   "cell_type": "code",
   "execution_count": 7,
   "id": "a1d6f562",
   "metadata": {},
   "outputs": [
    {
     "data": {
      "text/plain": [
       "1637"
      ]
     },
     "execution_count": 7,
     "metadata": {},
     "output_type": "execute_result"
    }
   ],
   "source": [
    "len(profession_data)"
   ]
  },
  {
   "cell_type": "markdown",
   "id": "11993777",
   "metadata": {},
   "source": [
    "# Gender keywords to filter profession domain for gender-related stereotypes (e.g., texts implying male/female in occupations)"
   ]
  },
  {
   "cell_type": "code",
   "execution_count": 8,
   "id": "b6526112",
   "metadata": {},
   "outputs": [],
   "source": [
    "gender_keywords = [\n",
    "    'he', 'she', 'him', 'her', 'his', 'hers', 'man', 'men', 'woman', 'women', 'male', 'males', 'female', 'females', 'boy', 'boys', 'girl', 'girls', 'gentleman', 'gentlemen', 'lady', 'ladies', 'sir', 'madam', 'mr', 'mrs', 'ms', 'miss', 'guy', 'guys', 'gal', 'gals', 'dude', 'dudes', 'chick', 'chicks'\n",
    "]"
   ]
  },
  {
   "cell_type": "markdown",
   "id": "219defc1",
   "metadata": {},
   "source": [
    "# Expand gender data to labeled texts (all, no profession filter to maximize)"
   ]
  },
  {
   "cell_type": "code",
   "execution_count": null,
   "id": "e59d6401",
   "metadata": {},
   "outputs": [
    {
     "name": "stderr",
     "output_type": "stream",
     "text": [
      "Processing StereoSet gender data: 100%|██████████| 497/497 [00:00<00:00, 83997.63it/s]\n"
     ]
    }
   ],
   "source": [
    "gender_rows = []\n",
    "for item in tqdm(gender_data, desc=\"Processing StereoSet gender data\"):\n",
    "    context = item['context']\n",
    "    \n",
    "    placeholder = '[BLANK]' if '[BLANK]' in context else 'BLANK' if 'BLANK' in context else None\n",
    "    for sentence in item['sentences']:\n",
    "        if placeholder:\n",
    "            text = context.replace(placeholder, sentence['sentence']).strip()  \n",
    "        else:\n",
    "            text = context + ' ' + sentence['sentence']\n",
    "        \n",
    "        label = 1 if sentence['gold_label'] == 'stereotype' else 0\n",
    "        gender_rows.append({'text': text, 'label': label})"
   ]
  },
  {
   "cell_type": "code",
   "execution_count": 10,
   "id": "5f0296e5",
   "metadata": {},
   "outputs": [
    {
     "data": {
      "text/plain": [
       "1491"
      ]
     },
     "execution_count": 10,
     "metadata": {},
     "output_type": "execute_result"
    }
   ],
   "source": [
    "len(gender_rows)"
   ]
  },
  {
   "cell_type": "markdown",
   "id": "3fee7d7c",
   "metadata": {},
   "source": [
    "# Expand profession data and filter for gender implications"
   ]
  },
  {
   "cell_type": "code",
   "execution_count": null,
   "id": "540bcc51",
   "metadata": {},
   "outputs": [
    {
     "name": "stderr",
     "output_type": "stream",
     "text": [
      "Processing StereoSet profession data: 100%|██████████| 1637/1637 [00:00<00:00, 78587.99it/s]\n"
     ]
    }
   ],
   "source": [
    "profession_rows = []\n",
    "for item in tqdm(profession_data, desc=\"Processing StereoSet profession data\"):\n",
    "    context = item['context']\n",
    "    \n",
    "    placeholder = '[BLANK]' if '[BLANK]' in context else 'BLANK' if 'BLANK' in context else None\n",
    "    for sentence in item['sentences']:\n",
    "        if placeholder:\n",
    "            text = context.replace(placeholder, sentence['sentence']).strip()\n",
    "        else:\n",
    "            text = context + ' ' + sentence['sentence']\n",
    "        \n",
    "        \n",
    "        if any(keyword.lower() in text.lower() for keyword in gender_keywords):\n",
    "            label = 1 if sentence['gold_label'] == 'stereotype' else 0\n",
    "            profession_rows.append({'text': text, 'label': label})"
   ]
  },
  {
   "cell_type": "code",
   "execution_count": 12,
   "id": "bac9b3a2",
   "metadata": {},
   "outputs": [
    {
     "data": {
      "text/plain": [
       "4583"
      ]
     },
     "execution_count": 12,
     "metadata": {},
     "output_type": "execute_result"
    }
   ],
   "source": [
    "len(profession_rows)"
   ]
  },
  {
   "cell_type": "markdown",
   "id": "82088ad4",
   "metadata": {},
   "source": [
    "# Combine rows from both domains"
   ]
  },
  {
   "cell_type": "code",
   "execution_count": 13,
   "id": "8588ba66",
   "metadata": {},
   "outputs": [],
   "source": [
    "all_rows = gender_rows + profession_rows"
   ]
  },
  {
   "cell_type": "code",
   "execution_count": 14,
   "id": "07627c4b",
   "metadata": {},
   "outputs": [
    {
     "data": {
      "text/plain": [
       "6074"
      ]
     },
     "execution_count": 14,
     "metadata": {},
     "output_type": "execute_result"
    }
   ],
   "source": [
    "len(all_rows)"
   ]
  },
  {
   "cell_type": "markdown",
   "id": "ea66397d",
   "metadata": {},
   "source": [
    "# Create Pandas DataFrame"
   ]
  },
  {
   "cell_type": "code",
   "execution_count": 15,
   "id": "97e0a3a0",
   "metadata": {},
   "outputs": [],
   "source": [
    "stereo_df = pd.DataFrame(all_rows)"
   ]
  },
  {
   "cell_type": "markdown",
   "id": "b557d34f",
   "metadata": {},
   "source": [
    "# remove duplicates with exact matches"
   ]
  },
  {
   "cell_type": "code",
   "execution_count": 16,
   "id": "6ce090d2",
   "metadata": {},
   "outputs": [],
   "source": [
    "stereo_df = stereo_df.drop_duplicates(subset=['text'], keep='first')"
   ]
  },
  {
   "cell_type": "code",
   "execution_count": 17,
   "id": "9af0d6c6",
   "metadata": {},
   "outputs": [
    {
     "data": {
      "text/plain": [
       "6063"
      ]
     },
     "execution_count": 17,
     "metadata": {},
     "output_type": "execute_result"
    }
   ],
   "source": [
    "len(stereo_df)"
   ]
  },
  {
   "cell_type": "markdown",
   "id": "5e673344",
   "metadata": {},
   "source": [
    "# Balance the classes,Oversample biased (label=1) to match or exceed unbiased (label=0)"
   ]
  },
  {
   "cell_type": "code",
   "execution_count": 18,
   "id": "2741a316",
   "metadata": {},
   "outputs": [],
   "source": [
    "label_counts = stereo_df['label'].value_counts()\n",
    "unbiased_count = label_counts.get(0, 0)\n",
    "biased_count = label_counts.get(1, 0)"
   ]
  },
  {
   "cell_type": "markdown",
   "id": "c82f15d4",
   "metadata": {},
   "source": [
    "# Oversample biased rows"
   ]
  },
  {
   "cell_type": "code",
   "execution_count": null,
   "id": "1715c170",
   "metadata": {},
   "outputs": [],
   "source": [
    "if biased_count < unbiased_count:\n",
    "    \n",
    "    biased_df = stereo_df[stereo_df['label'] == 1]\n",
    "    oversample_size = unbiased_count - biased_count\n",
    "    oversampled_biased = biased_df.sample(n=oversample_size, replace=True, random_state=42)  # Replace=True for duplication if needed\n",
    "    stereo_df = pd.concat([stereo_df, oversampled_biased], ignore_index=True)"
   ]
  },
  {
   "cell_type": "code",
   "execution_count": 20,
   "id": "d26a671f",
   "metadata": {},
   "outputs": [
    {
     "name": "stdout",
     "output_type": "stream",
     "text": [
      "8062\n"
     ]
    }
   ],
   "source": [
    "stereo_df = stereo_df.sample(frac=1, random_state=42).reset_index(drop=True)\n",
    "print(len(stereo_df))"
   ]
  },
  {
   "cell_type": "markdown",
   "id": "397d9fc1",
   "metadata": {},
   "source": [
    "# Since we are looking for gender stereotypes where the original count was around 505 , lets sample it to a closer value of 516.\n",
    "# If more than 516, sample down to ~516 while preserving balance"
   ]
  },
  {
   "cell_type": "code",
   "execution_count": 21,
   "id": "3a896bbf",
   "metadata": {},
   "outputs": [
    {
     "name": "stderr",
     "output_type": "stream",
     "text": [
      "/var/folders/9p/v67_cz3j5p9gdz9s5pkxyync0000gn/T/ipykernel_87730/1729683851.py:3: DeprecationWarning: DataFrameGroupBy.apply operated on the grouping columns. This behavior is deprecated, and in a future version of pandas the grouping columns will be excluded from the operation. Either pass `include_groups=False` to exclude the groupings or explicitly select the grouping columns after groupby to silence this warning.\n",
      "  stereo_df = stereo_df.groupby('label', group_keys=False).apply(lambda x: x.sample(frac=516/len(stereo_df))).reset_index(drop=True)\n"
     ]
    }
   ],
   "source": [
    "if len(stereo_df) > 516:\n",
    "    # Stratified sample to maintain ratio\n",
    "    stereo_df = stereo_df.groupby('label', group_keys=False).apply(lambda x: x.sample(frac=516/len(stereo_df))).reset_index(drop=True)"
   ]
  },
  {
   "cell_type": "code",
   "execution_count": 22,
   "id": "00f7ffb4",
   "metadata": {},
   "outputs": [
    {
     "data": {
      "text/plain": [
       "label\n",
       "0    258\n",
       "1    258\n",
       "Name: count, dtype: int64"
      ]
     },
     "execution_count": 22,
     "metadata": {},
     "output_type": "execute_result"
    }
   ],
   "source": [
    "stereo_df['label'].value_counts()"
   ]
  },
  {
   "cell_type": "code",
   "execution_count": null,
   "id": "2d147fd2",
   "metadata": {},
   "outputs": [],
   "source": [
    "stereo_df.to_csv('stereoset_data.csv', index=False)"
   ]
  },
  {
   "cell_type": "code",
   "execution_count": null,
   "id": "62ca1b9c",
   "metadata": {},
   "outputs": [],
   "source": []
  }
 ],
 "metadata": {
  "kernelspec": {
   "display_name": "ThesisImplemenationenv",
   "language": "python",
   "name": "python3"
  },
  "language_info": {
   "codemirror_mode": {
    "name": "ipython",
    "version": 3
   },
   "file_extension": ".py",
   "mimetype": "text/x-python",
   "name": "python",
   "nbconvert_exporter": "python",
   "pygments_lexer": "ipython3",
   "version": "3.12.7"
  }
 },
 "nbformat": 4,
 "nbformat_minor": 5
}
