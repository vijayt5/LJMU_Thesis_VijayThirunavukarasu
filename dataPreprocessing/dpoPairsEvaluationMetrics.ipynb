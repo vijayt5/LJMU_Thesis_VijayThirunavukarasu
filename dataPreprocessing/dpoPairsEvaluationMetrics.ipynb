{
 "cells": [
  {
   "cell_type": "code",
   "execution_count": 1,
   "id": "eb3f6259",
   "metadata": {},
   "outputs": [
    {
     "name": "stderr",
     "output_type": "stream",
     "text": [
      "/Users/vijaythirunavukarasu/Documents/RealThesisImplementation/ThesisProject1/ThesisImplemenationenv/lib/python3.12/site-packages/tqdm/auto.py:21: TqdmWarning: IProgress not found. Please update jupyter and ipywidgets. See https://ipywidgets.readthedocs.io/en/stable/user_install.html\n",
      "  from .autonotebook import tqdm as notebook_tqdm\n"
     ]
    }
   ],
   "source": [
    "import pandas as pd\n",
    "import matplotlib.pyplot as plt\n",
    "from sklearn.metrics import roc_auc_score\n",
    "from transformers import pipeline\n",
    "from nltk.tokenize import word_tokenize\n",
    "from wordcloud import WordCloud\n",
    "import seaborn as sns"
   ]
  },
  {
   "cell_type": "code",
   "execution_count": 2,
   "id": "be623f50",
   "metadata": {},
   "outputs": [],
   "source": [
    "EXCEL_FILE = '/Users/vijaythirunavukarasu/Documents/RealThesisImplementation/ThesisProject1/finalSubmissionForThesis/boldStereoSetCombined.csv'  # Path to your Excel file\n",
    "PROMPT_COLUMN = 'text'  # Column name in Excel containing the prompts\n",
    "OUTPUT_FILE = '/Users/vijaythirunavukarasu/Documents/RealThesisImplementation/ThesisProject1/finalSubmissionForThesis/boldStereoSetDpoPairs.csv'"
   ]
  },
  {
   "cell_type": "code",
   "execution_count": 3,
   "id": "6eb6490b",
   "metadata": {},
   "outputs": [],
   "source": [
    "df = pd.read_csv(EXCEL_FILE)  # Columns: 'prompt', 'chosen', 'rejected'"
   ]
  },
  {
   "cell_type": "code",
   "execution_count": null,
   "id": "8cd486a0",
   "metadata": {},
   "outputs": [],
   "source": [
    "classifier = pipeline('text-classification', model='/Users/vijaythirunavukarasu/Documents/RealThesisImplementation/ThesisProject1/src/fine_tuned_bias_classifier')"
   ]
  }
 ],
 "metadata": {
  "kernelspec": {
   "display_name": "ThesisImplemenationenv",
   "language": "python",
   "name": "python3"
  },
  "language_info": {
   "codemirror_mode": {
    "name": "ipython",
    "version": 3
   },
   "file_extension": ".py",
   "mimetype": "text/x-python",
   "name": "python",
   "nbconvert_exporter": "python",
   "pygments_lexer": "ipython3",
   "version": "3.12.7"
  }
 },
 "nbformat": 4,
 "nbformat_minor": 5
}
